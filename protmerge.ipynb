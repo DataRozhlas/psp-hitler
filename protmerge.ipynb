{
 "cells": [
  {
   "cell_type": "code",
   "execution_count": 2,
   "metadata": {},
   "outputs": [],
   "source": [
    "import os, re\n",
    "from lxml import html"
   ]
  },
  {
   "cell_type": "code",
   "execution_count": 5,
   "metadata": {},
   "outputs": [],
   "source": [
    "def merge_content(folder):\n",
    "    filelist = []\n",
    "\n",
    "    for root, dirs, files in os.walk(folder):\n",
    "        for filename in files:\n",
    "            if filename[0] == 's':\n",
    "                filelist.append(root+\"/\"+filename)\n",
    "\n",
    "    filelist.sort()\n",
    "    content = []\n",
    "    \n",
    "    for file in filelist:\n",
    "        with open(file, 'r') as file:\n",
    "            start = 0\n",
    "            for line in file:\n",
    "                if \"<!-- eh -->\" in line or \"<!-- ex -->\" in line: start = 1\n",
    "                if \"<!-- sf -->\" in line or \"<!-- sy -->\" in line: start = 0\n",
    "                if start == 1: content.append(line)\n",
    "    \n",
    "    return(content)"
   ]
  },
  {
   "cell_type": "code",
   "execution_count": 4,
   "metadata": {},
   "outputs": [],
   "source": [
    "def merged_html_out(folder,filename):\n",
    "    content = merge_content(folder)\n",
    "    with open(filename, 'w', encoding=\"utf8\") as output:\n",
    "        output.write('<html>\\n<head>\\n<title>'+folder+'</title>\\n</head>\\n<body>\\n')\n",
    "        for line in content: output.write(line)\n",
    "        output.write('</body>\\n</html>')"
   ]
  },
  {
   "cell_type": "code",
   "execution_count": 9,
   "metadata": {},
   "outputs": [],
   "source": [
    "os.makedirs(\"merged\", exist_ok=True)"
   ]
  },
  {
   "cell_type": "code",
   "execution_count": 22,
   "metadata": {},
   "outputs": [],
   "source": [
    "years = []\n",
    "for item in os.listdir():\n",
    "    try:\n",
    "        int(item)\n",
    "        years.append(item)\n",
    "    except:\n",
    "        pass"
   ]
  },
  {
   "cell_type": "code",
   "execution_count": 28,
   "metadata": {},
   "outputs": [],
   "source": [
    "for year in years:\n",
    "    os.makedirs(\"merged/\"+year,exist_ok=True)\n",
    "    for item in os.listdir(year):\n",
    "        if \"schuz\" in item:\n",
    "            merged_html_out(year+\"/\"+item, \"merged/\"+year+\"/\"+item+\".html\")"
   ]
  }
 ],
 "metadata": {
  "kernelspec": {
   "display_name": "Python 3",
   "language": "python",
   "name": "python3"
  },
  "language_info": {
   "codemirror_mode": {
    "name": "ipython",
    "version": 3
   },
   "file_extension": ".py",
   "mimetype": "text/x-python",
   "name": "python",
   "nbconvert_exporter": "python",
   "pygments_lexer": "ipython3",
   "version": "3.7.0"
  }
 },
 "nbformat": 4,
 "nbformat_minor": 2
}
